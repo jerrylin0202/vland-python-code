
import time
import chromedriver_autoinstaller
import numpy as np
import pandas as pd
import selenium.webdriver.support.ui as ui
from selenium import webdriver
from selenium.webdriver.chrome.options import Options
from selenium.webdriver.common.by import By
from selenium.webdriver.support.ui import Select
from selenium.webdriver.common.action_chains import ActionChains

##############
chromedriver_autoinstaller.install()


prefs = {'profile.default_content_settings.popups': 0,
    "profile.password_manager_enabled": False,
    "credentials_enable_service": False,
    "profile.default_content_setting_values.automatic_downloads" : 1}
options = webdriver.ChromeOptions()#預設瀏覽器設定
options.add_argument("--disable-infobars")
options.add_argument("--disable-extensions")
options.add_experimental_option("excludeSwitches", ["enable-automation","enable-logging"])
options.add_experimental_option('prefs', prefs)#加入個人喜好設定

driver = webdriver.Chrome(options=options)
driver.get("http://es.cpc.org.tw/ES/UserOn.aspx")
button_acc = driver.find_element(By.ID, "ctl00_CMSContentPlaceHolder_UserLogin_UserName").send_keys("gov")
button_psw = driver.find_element(By.ID, "ctl00_CMSContentPlaceHolder_UserLogin_pwdText").send_keys("govtest")
driver.find_element_by_id("ctl00_CMSContentPlaceHolder_UserLogin_LoginButton").click()
driver.find_element_by_id("M1_M1_DXI1_").click()
a = ActionChains(driver)
m= driver.find_element(By.ID,"M1_M1_DXI0_T")
a.move_to_element(m).perform()
driver.find_element_by_id("M1_M1_DXI0i3_T").click()
driver.find_element_by_id("CMSLayout1_ctl00_GV1_DXDataRow0").click()
time.sleep(100)