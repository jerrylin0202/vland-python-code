{
 "cells": [
  {
   "cell_type": "code",
   "execution_count": 1,
   "metadata": {},
   "outputs": [],
   "source": [
    "from webdriver_manager.chrome import ChromeDriverManager\n",
    "from selenium import webdriver\n",
    "from selenium.webdriver.common.by import By\n",
    "from selenium.webdriver.support.ui import Select\n",
    "from selenium.webdriver.chrome.options import Options\n",
    "import selenium.webdriver.support.ui as ui\n",
    "import pandas as pd\n",
    "import numpy as np\n",
    "import requests\n",
    "import zipfile\n",
    "import io\n",
    "import time\n",
    "import os\n",
    "import csv\n",
    "import json, ssl\n",
    "from urllib import request\n",
    "import urllib\n",
    "import pandas as pd\n",
    "import math\n",
    "import datetime\n",
    "import glob\n",
    "import shutil\n",
    "import re"
   ]
  },
  {
   "cell_type": "code",
   "execution_count": null,
   "metadata": {},
   "outputs": [],
   "source": [
    "driver = webdriver.Chrome()\n",
    "driver.get(\"https://plvr.land.moi.gov.tw/DownloadOpenData\")\n",
    "button1 = driver.find_element(By.ID, \"ui-id-2\")\n",
    "button1.click()"
   ]
  },
  {
   "cell_type": "markdown",
   "metadata": {},
   "source": [
    "## 單年單季下載 試做"
   ]
  },
  {
   "cell_type": "markdown",
   "metadata": {},
   "source": [
    "1. 動態網頁爬蟲第一道鎖 — Selenium教學：如何使用Webdriver、send_keys(附Python 程式碼)\n",
    "\n",
    "\n",
    "https://medium.com/marketingdatascience/selenium%E6%95%99%E5%AD%B8-%E4%B8%80-%E5%A6%82%E4%BD%95%E4%BD%BF%E7%94%A8webdriver-send-keys-988816ce9bed\n",
    "\n",
    "\n",
    "2. 動態網頁爬蟲第二道鎖 — Selenium教學：如何使用find_element(s)取得任何網頁上能看到的內容(附Python 程式碼)\n",
    "\n",
    "\n",
    "https://medium.com/marketingdatascience/%E5%8B%95%E6%85%8B%E7%B6%B2%E9%A0%81%E7%88%AC%E8%9F%B2%E7%AC%AC%E4%BA%8C%E9%81%93%E9%8E%96-selenium%E6%95%99%E5%AD%B8-%E5%A6%82%E4%BD%95%E4%BD%BF%E7%94%A8find-element-s-%E5%8F%96%E5%BE%97%E7%B6%B2%E9%A0%81%E5%85%83%E7%B4%A0-%E9%99%84python-%E7%A8%8B%E5%BC%8F%E7%A2%BC-b66920fc8cab"
   ]
  },
  {
   "cell_type": "code",
   "execution_count": null,
   "metadata": {},
   "outputs": [],
   "source": [
    "year = Select(driver.find_element_by_name(\"season\"))\n",
    "year.select_by_value(\"105S3\")\n",
    "select = Select(driver.find_element_by_name('fileFormat'))\n",
    "select.select_by_value(\"csv\")\n",
    "driver.find_element_by_name(\"button9\").click()"
   ]
  },
  {
   "cell_type": "code",
   "execution_count": null,
   "metadata": {},
   "outputs": [],
   "source": [
    "#初始化selenium driver時傳入option參數\n",
    "driver = webdriver.Chrome(\"C:/webdriver/chromedriver.exe\")\n",
    "driver.get(\"https://plvr.land.moi.gov.tw/DownloadOpenData\")\n",
    "\n",
    "now_handle = driver.current_window_handle \n",
    "print(now_handle) \n",
    "\n",
    "#獲取所有視窗控制程式碼\n",
    "all_handles = driver.window_handles \n",
    "for handle in all_handles:\n",
    "    if handle!=now_handle:\n",
    "        #輸出待選擇的視窗控制程式碼\n",
    "        print(handle)\n",
    "        driver.switch_to.window(handle)\n",
    "        time.sleep(1)\n",
    "\n",
    "        #具體操作\n",
    "        elem_bt = driver.find_element_by_xpath(\"/html/body\")\n",
    "        driver.close() #關閉當前視窗\n",
    "#輸出主視窗控制程式碼\n",
    "print(now_handle)\n",
    "driver.switch_to_window(now_handle) #返回主視窗\n",
    "\n",
    "driver.find_element(By.ID, \"ui-id-2\").click()\n",
    "wait = ui.WebDriverWait(driver,10)\n",
    "wait.until(lambda driver: driver.find_element_by_xpath('//*[@id=\"historySeason_id\"]'))\n",
    "year = Select(driver.find_element_by_name(\"season\"))\n",
    "year.select_by_index(5)\n",
    "select = Select(driver.find_element_by_name('fileFormat'))\n",
    "select.select_by_value(\"csv\")\n",
    "driver.find_element_by_name(\"button9\").click()"
   ]
  },
  {
   "cell_type": "markdown",
   "metadata": {},
   "source": [
    "## 全部資料下載"
   ]
  },
  {
   "cell_type": "code",
   "execution_count": null,
   "metadata": {},
   "outputs": [],
   "source": [
    "def land_dl():\n",
    "    #進入不動產成交案件實際資訊資料供應系統\n",
    "    driver = webdriver.Chrome(\"C:/webdriver/chromedriver.exe\")\n",
    "    driver.get(\"https://plvr.land.moi.gov.tw/DownloadOpenData\")\n",
    "\n",
    "    now_handle = driver.current_window_handle \n",
    "    print(now_handle) \n",
    "\n",
    "    #獲取所有視窗控制程式碼\n",
    "    all_handles = driver.window_handles \n",
    "    for handle in all_handles:\n",
    "        if handle!=now_handle:\n",
    "            #輸出待選擇的視窗控制程式碼\n",
    "            print(handle)\n",
    "            driver.switch_to.window(handle)\n",
    "            time.sleep(1)\n",
    "\n",
    "            #具體操作\n",
    "            elem_bt = driver.find_element_by_xpath(\"/html/body\")\n",
    "            driver.close() #關閉當前視窗\n",
    "    #輸出主視窗控制程式碼\n",
    "    print(now_handle)\n",
    "    driver.switch_to_window(now_handle) #返回主視窗\n",
    "\n",
    "    button1 = driver.find_element(By.ID, \"ui-id-2\")\n",
    "    button1.click()\n",
    "    time.sleep(1)\n",
    "    button2 = driver.find_element(By.ID, \"downloadTypeId2\")\n",
    "    button2.click()\n",
    "    time.sleep(1)\n",
    "    button3 = driver.find_element(By.ID, \"typeASelectAll\")\n",
    "    button3.click()\n",
    "    #迴圈選擇年度\n",
    "    \n",
    "    selector = Select(driver.find_element_by_name(\"season\"))\n",
    "    opt_season = selector.options\n",
    "    for i in range(len(opt_season)):\n",
    "        if True:\n",
    "            wait = ui.WebDriverWait(driver,10)\n",
    "            wait.until(lambda driver: driver.find_element_by_xpath('//*[@id=\"historySeason_id\"]'))\n",
    "            year = Select(driver.find_element_by_name(\"season\"))\n",
    "            year.select_by_index(i)\n",
    "            #選擇下載檔案格式\n",
    "            select = Select(driver.find_element_by_name('fileFormat'))\n",
    "            select.select_by_value(\"csv\")\n",
    "            #下載按鈕\n",
    "            driver.find_element_by_name(\"button9\").click()\n",
    "            time.sleep(60)\n",
    "        else:\n",
    "            pass\n",
    "\n",
    "    button3.click()\n",
    "    button4 = driver.find_element(By.ID, \"typeCSelectAll\")\n",
    "    button4.click()\n",
    "    for i in range(len(opt_season)):\n",
    "        if True:\n",
    "            wait = ui.WebDriverWait(driver,10)\n",
    "            wait.until(lambda driver: driver.find_element_by_xpath('//*[@id=\"historySeason_id\"]'))\n",
    "            year = Select(driver.find_element_by_name(\"season\"))\n",
    "            year.select_by_index(i)\n",
    "            #選擇下載檔案格式\n",
    "            select = Select(driver.find_element_by_name('fileFormat'))\n",
    "            select.select_by_value(\"csv\")\n",
    "            #下載按鈕\n",
    "            driver.find_element_by_name(\"button9\").click()\n",
    "            time.sleep(60)\n",
    "        else:\n",
    "            pass"
   ]
  },
  {
   "cell_type": "code",
   "execution_count": null,
   "metadata": {},
   "outputs": [],
   "source": [
    "land_dl()"
   ]
  },
  {
   "cell_type": "markdown",
   "metadata": {},
   "source": [
    "## 實價登錄資料處理\n",
    "\n",
    "## 目標:自動爬蟲，下載更新資料，依照各縣市存放，全年度合併\n",
    "\n",
    "### 自動下載:定時下載\n",
    "\n",
    "\n",
    "### 資料面:分別下載買賣、預售與租賃 -> 迴圈將資料夾內的壓縮檔解壓縮順便改名(zipfile) -> 合併每個資料夾內的同縣市檔案 ->刪除資料夾"
   ]
  },
  {
   "cell_type": "code",
   "execution_count": null,
   "metadata": {
    "scrolled": true
   },
   "outputs": [],
   "source": [
    "path='C:/Users/估價部/Desktop/Python_Code/實價登錄爬蟲/買賣/'\n",
    "\n",
    "\n",
    "old_filename=os.listdir(path)\n",
    "newlist = []\n",
    "for names in old_filename:\n",
    "    if names.endswith(\".zip\"):\n",
    "        newlist.append(names)\n",
    "newlist.sort(key=len)\n",
    "reversed_list = newlist[::-1]\n",
    "for i in range(len(reversed_list)):\n",
    "    reversed_list[i] = reversed_list[i].replace(' (', \"\")\n",
    "    reversed_list[i] = reversed_list[i].replace(').zip', \"\")\n",
    "reversed_list.reverse()\n",
    "\n",
    "reversed_list"
   ]
  },
  {
   "cell_type": "code",
   "execution_count": null,
   "metadata": {},
   "outputs": [],
   "source": [
    "# 指定要列出所有檔案的目錄\n",
    "mypath ='C:/Users/估價部/Desktop/Python_Code/實價登錄爬蟲/買賣/'+reversed_list[0]\n",
    "\n",
    "data_list=[]\n",
    "\n",
    "for files in walk(mypath):\n",
    "    path_file_list = list(files)[2]\n",
    "df_list = pd.DataFrame(path_file_list,columns=['Name'])\n",
    "\n",
    "real_datalist = df_list[df_list['Name'].str.contains('lvr_land')]\n",
    "not_datalist = df_list[~df_list['Name'].str.contains('lvr_land')]\n",
    "real_datalist = list(real_datalist['Name'])\n",
    "not_datalist = list(not_datalist['Name'])\n",
    "real_datalist"
   ]
  },
  {
   "cell_type": "markdown",
   "metadata": {},
   "source": [
    "## 讀取for迴圈:路徑+資料夾名稱(reversed_list，loop)+檔名(real_datalist，loop)"
   ]
  },
  {
   "cell_type": "code",
   "execution_count": null,
   "metadata": {},
   "outputs": [],
   "source": [
    "for i in range(len(reversed_list)):\n",
    "    mypath ='C:/Users/估價部/Desktop/Python_Code/實價登錄爬蟲/買賣/'+reversed_list[i]\n",
    "\n",
    "    for files in walk(mypath):#取得每季資料夾內所有檔案\n",
    "        path_file_list = list(files)[2]\n",
    "    df_list = pd.DataFrame(path_file_list,columns=['Name'])\n",
    "\n",
    "    not_datalist = df_list[~df_list['Name'].str.contains('lvr_land')]#波浪鍵反選\n",
    "    not_datalist = list(not_datalist['Name'])\n",
    "    for j in range(len(not_datalist)):\n",
    "        try:\n",
    "            os.remove(path+reversed_list[i]+'/'+not_datalist[j])\n",
    "        except OSError as e:\n",
    "            print(e)\n",
    "        else:\n",
    "            print(\"File is deleted successfully\")"
   ]
  },
  {
   "cell_type": "code",
   "execution_count": null,
   "metadata": {},
   "outputs": [],
   "source": [
    "for i in range(len(reversed_list)):\n",
    "    extract_path = 'C:/Users/估價部/Desktop/Python_Code/實價登錄爬蟲/買賣/'+old_filename[i]\n",
    "    file_path = 'C:/Users/估價部/Desktop/Python_Code/實價登錄爬蟲/買賣/'+reversed_list[i]\n",
    "    extract_files = zipfile.ZipFile(extract_path,'r')\n",
    "    loop_data = extract_files.extractall(file_path)\n",
    "    extract_files.close()"
   ]
  },
  {
   "cell_type": "code",
   "execution_count": null,
   "metadata": {},
   "outputs": [],
   "source": [
    "def county_combine(county_file_name):\n",
    "    col_na = pd.read_csv(path+reversed_list[0]+'/'+real_datalist[0],engine = \"python\")\n",
    "    col_name = col_na.columns.tolist()\n",
    "    combine_df = pd.DataFrame([],columns=col_name)\n",
    "    try:\n",
    "        for i in range(len(reversed_list)):\n",
    "            new_df = pd.read_csv(path+reversed_list[i]+'/'+county_file_name,engine = \"python\")\n",
    "            combine_df = combine_df.append(new_df)\n",
    "            combine_df = combine_df[~combine_df['鄉鎮市區'].isin(['The villages and towns urban district'])]\n",
    "            combine_df = combine_df[1:]\n",
    "            combine_df.index = range(1, len(combine_df)+1)\n",
    "        return combine_df\n",
    "    except:\n",
    "        return combine_df\n",
    "        pass"
   ]
  },
  {
   "cell_type": "code",
   "execution_count": null,
   "metadata": {},
   "outputs": [],
   "source": [
    "countyname = ['臺北市','臺中市','基隆市','臺南市','高雄市','新北市','宜蘭縣','桃園市','嘉義市','新竹縣','苗栗縣','南投縣','彰化縣','新竹市','雲林縣','嘉義縣','屏東縣','花蓮縣','臺東縣','金門縣','澎湖縣','連江縣']\n",
    "for i in range(len(real_datalist)):\n",
    "    county_example = county_combine(real_datalist[i])\n",
    "    if not os.path.exists(path+'/'+countyname[i]):\n",
    "        os.mkdir(path+'/'+countyname[i])\n",
    "        county_example.to_csv(path+'/'+countyname[i]+'/'+countyname[i]+\".csv\",encoding='utf-8')\n",
    "        del county_example\n",
    "    else:\n",
    "        county_example.to_csv(path+'/'+countyname[i]+'/'+countyname[i]+\".csv\",encoding='utf-8')\n",
    "        del county_example"
   ]
  },
  {
   "cell_type": "code",
   "execution_count": null,
   "metadata": {},
   "outputs": [],
   "source": [
    "dirPath = r\"C:/Users/估價部/Desktop/Python_Code/實價登錄爬蟲/買賣/\"\n",
    "extracted_data = next(os.walk(dirPath))[1]\n",
    "extracted_data_df = pd.DataFrame(extracted_data,columns=['Name'])\n",
    "delete_list = extracted_data_df[extracted_data_df['Name'].str.contains('download')]\n",
    "delete_list = list(delete_list['Name'])\n",
    "delete_list"
   ]
  },
  {
   "cell_type": "code",
   "execution_count": null,
   "metadata": {
    "scrolled": false
   },
   "outputs": [],
   "source": [
    "# 前季下載delete_path = 'C:/Users/估價部/Desktop/Python_Code/實價登錄爬蟲/買賣/'\n",
    "for i in range(len(delete_list)):\n",
    "    dirPath = Path(delete_path+delete_list[i])\n",
    "    try:\n",
    "        shutil.rmtree(dirPath)\n",
    "    except OSError as e:\n",
    "        print(e)\n",
    "    else:\n",
    "        print(\"File is deleted successfully\")"
   ]
  },
  {
   "cell_type": "markdown",
   "metadata": {},
   "source": [
    "# 前期下載"
   ]
  },
  {
   "cell_type": "code",
   "execution_count": 20,
   "metadata": {},
   "outputs": [
    {
     "name": "stdout",
     "output_type": "stream",
     "text": [
      "CDwindow-C71A4174EE498AE6553CB407F5E77B16\n",
      "CDwindow-1051F951A73C58C05F98FA5E014CB65C\n",
      "CDwindow-C71A4174EE498AE6553CB407F5E77B16\n"
     ]
    },
    {
     "name": "stderr",
     "output_type": "stream",
     "text": [
      "<ipython-input-20-96d9d235e544>:21: DeprecationWarning: use driver.switch_to.window instead\n",
      "  driver.switch_to_window(now_handle) #返回主視窗\n"
     ]
    }
   ],
   "source": [
    "driver = webdriver.Chrome('C://Users//估價部//Desktop//Python_Code//chromedriver.exe')\n",
    "driver.get(\"https://plvr.land.moi.gov.tw/DownloadOpenData\")\n",
    "\n",
    "now_handle = driver.current_window_handle \n",
    "print(now_handle) \n",
    "\n",
    "#獲取所有視窗控制程式碼\n",
    "all_handles = driver.window_handles \n",
    "for handle in all_handles:\n",
    "    if handle!=now_handle:\n",
    "        #輸出待選擇的視窗控制程式碼\n",
    "        print(handle)\n",
    "        driver.switch_to.window(handle)\n",
    "        time.sleep(1)\n",
    "\n",
    "        #具體操作\n",
    "        elem_bt = driver.find_element_by_xpath(\"/html/body\")\n",
    "        driver.close() #關閉當前視窗\n",
    "#輸出主視窗控制程式碼\n",
    "print(now_handle)\n",
    "driver.switch_to_window(now_handle) #返回主視窗\n",
    "\n",
    "button1 = driver.find_element(By.ID, \"ui-id-2\")\n",
    "button1.click()\n",
    "time.sleep(1)\n",
    "\n",
    "\n",
    "button5 = driver.find_elements_by_class_name('i_download')\n",
    "for i in range(len(button5)):\n",
    "    button5[i].click()\n",
    "    time.sleep(10)\n",
    "\n",
    "button6 = driver.find_element(By.ID, \"ui-id-1\")\n",
    "button6.click()\n",
    "time.sleep(1)\n",
    "\n",
    "select = Select(driver.find_element_by_name('fileFormat'))\n",
    "select.select_by_value(\"csv\")\n",
    "button7 = driver.find_element(By.ID, \"downloadTypeId2\")####改成function list輸入\n",
    "button7.click()\n",
    "button8 = driver.find_element(By.ID, \"typeASelectAll\")####改成function list輸入\n",
    "button8.click()\n",
    "driver.find_element_by_name(\"button9\").click()"
   ]
  },
  {
   "cell_type": "markdown",
   "metadata": {},
   "source": [
    "# 合併"
   ]
  },
  {
   "cell_type": "markdown",
   "metadata": {},
   "source": [
    "## 定時下載\n",
    "建立下載時間:每個月的1、11、21\n",
    "\n",
    "\n",
    "windows工作排程:\n",
    "\n",
    "https://pixnashpython.pixnet.net/blog/post/41511724-%E3%80%90win10%E6%8E%92%E7%A8%8B%E3%80%91%E4%BD%BF%E7%94%A8windows%E6%8E%92%E7%A8%8B%E5%99%A8%E8%AE%93python%E8%87%AA%E5%B7%B1%E5%8B%95%E8%B5%B7"
   ]
  },
  {
   "cell_type": "markdown",
   "metadata": {},
   "source": [
    "# 下載時，依下載順序新建買賣、預售屋、租賃三個資料夾，下載完一類後再開第二個資料夾"
   ]
  },
  {
   "cell_type": "markdown",
   "metadata": {},
   "source": [
    "# 全域變數"
   ]
  },
  {
   "cell_type": "code",
   "execution_count": 4,
   "metadata": {},
   "outputs": [],
   "source": [
    "global abs_path\n",
    "global path_main_list\n",
    "global pre_vol_filename,pre_vol_namelist\n",
    "abs_path = os.path.abspath('\\\\192.168.0.252/實價登錄下載區')\n",
    "# abs_path = os.path.abspath('.')\n",
    "rel_path = abs_path.replace('\\\\','/')"
   ]
  },
  {
   "cell_type": "code",
   "execution_count": 18,
   "metadata": {},
   "outputs": [
    {
     "data": {
      "text/plain": [
       "'D:/192.168.0.252/實價登錄下載區'"
      ]
     },
     "execution_count": 18,
     "metadata": {},
     "output_type": "execute_result"
    }
   ],
   "source": [
    "rel_path"
   ]
  },
  {
   "cell_type": "code",
   "execution_count": 5,
   "metadata": {},
   "outputs": [
    {
     "data": {
      "text/plain": [
       "'D:\\\\192.168.0.252\\\\實價登錄下載區'"
      ]
     },
     "execution_count": 5,
     "metadata": {},
     "output_type": "execute_result"
    }
   ],
   "source": [
    "abs_path"
   ]
  },
  {
   "cell_type": "markdown",
   "metadata": {},
   "source": [
    "# 前季下載&本期下載"
   ]
  },
  {
   "cell_type": "code",
   "execution_count": 6,
   "metadata": {},
   "outputs": [],
   "source": [
    "def land_dl(data_type_file,data_type):\n",
    "    \n",
    "    #指定下載路徑\n",
    "    out_path = path+'\\\\'+data_type_file  # 下載想指定的路徑\n",
    "    prefs = {'profile.default_content_settings.popups': 0, 'download.default_directory': out_path}\n",
    "    options = webdriver.ChromeOptions()\n",
    "    options.add_experimental_option('prefs', prefs)\n",
    "    #進入不動產成交案件實際資訊資料供應系統\n",
    "    driver = webdriver.Chrome(executable_path=r'chromedriver.exe', chrome_options=options)\n",
    "    driver.get(\"https://plvr.land.moi.gov.tw/DownloadOpenData\")\n",
    "    \n",
    "    now_handle = driver.current_window_handle \n",
    "    #獲取所有視窗控制程式碼\n",
    "    all_handles = driver.window_handles \n",
    "    for handle in all_handles:\n",
    "        if handle!=now_handle:\n",
    "            #輸出待選擇的視窗控制程式碼\n",
    "            print(handle)\n",
    "            driver.switch_to.window(handle)\n",
    "            time.sleep(1)\n",
    "\n",
    "            #具體操作\n",
    "            elem_bt = driver.find_element_by_xpath(\"/html/body\")\n",
    "            driver.close() #關閉當前視窗\n",
    "    #輸出主視窗控制程式碼\n",
    "    print(now_handle)\n",
    "    driver.switch_to_window(now_handle) #返回主視窗\n",
    "\n",
    "    button1 = driver.find_element(By.ID, \"ui-id-2\")\n",
    "    button1.click()\n",
    "    time.sleep(1)\n",
    "    button2 = driver.find_element(By.ID, \"downloadTypeId2\")\n",
    "    button2.click()\n",
    "    time.sleep(1)\n",
    "    \n",
    "\n",
    "    button3 = driver.find_element(By.ID, data_type)#####################選擇下載資料種類#####################\n",
    "    button3.click()\n",
    "    selector = Select(driver.find_element_by_name(\"season\"))\n",
    "    opt_season = selector.options\n",
    "    for i in range(len(opt_season)):\n",
    "        if True:\n",
    "            wait = ui.WebDriverWait(driver,10)\n",
    "            wait.until(lambda driver: driver.find_element_by_xpath('//*[@id=\"historySeason_id\"]'))\n",
    "            year = Select(driver.find_element_by_name(\"season\"))\n",
    "            year.select_by_index(i)\n",
    "            #選擇下載檔案格式\n",
    "            select = Select(driver.find_element_by_name('fileFormat'))\n",
    "            select.select_by_value(\"csv\")\n",
    "            #下載按鈕\n",
    "            driver.find_element_by_name(\"button9\").click()\n",
    "            time.sleep(60)\n",
    "        else:\n",
    "            pass\n",
    "    button3.click()#取消選取當前資料種類\n",
    "    \n",
    "    button4 = driver.find_element(By.ID, \"ui-id-1\")\n",
    "    button4.click()\n",
    "    time.sleep(1)\n",
    "    select = Select(driver.find_element_by_name('fileFormat'))\n",
    "    select.select_by_value(\"csv\")\n",
    "    button5 = driver.find_element(By.ID, \"downloadTypeId2\")\n",
    "    button5.click()\n",
    "    button6 = driver.find_element(By.ID, data_type)\n",
    "    button6.click()\n",
    "    driver.find_element_by_name(\"button9\").click()"
   ]
  },
  {
   "cell_type": "markdown",
   "metadata": {},
   "source": [
    "# 前期下載"
   ]
  },
  {
   "cell_type": "code",
   "execution_count": 7,
   "metadata": {},
   "outputs": [],
   "source": [
    "def previous_vol():    \n",
    "    out_path = r'D:\\爬蟲測試資料夾\\4.前期下載'  # 下載想指定的路徑\n",
    "    prefs = {'profile.default_content_settings.popups': 0, 'download.default_directory': out_path}\n",
    "    options = webdriver.ChromeOptions()\n",
    "    options.add_experimental_option('prefs', prefs)\n",
    "    #進入不動產成交案件實際資訊資料供應系統\n",
    "    driver = webdriver.Chrome(executable_path=r'chromedriver.exe', chrome_options=options)\n",
    "    driver.get(\"https://plvr.land.moi.gov.tw/DownloadOpenData\")\n",
    "\n",
    "    now_handle = driver.current_window_handle \n",
    "    #獲取所有視窗控制程式碼\n",
    "    all_handles = driver.window_handles \n",
    "    for handle in all_handles:\n",
    "        if handle!=now_handle:\n",
    "            #輸出待選擇的視窗控制程式碼\n",
    "            print(handle)\n",
    "            driver.switch_to.window(handle)\n",
    "            time.sleep(1)\n",
    "\n",
    "            #具體操作\n",
    "            elem_bt = driver.find_element_by_xpath(\"/html/body\")\n",
    "            driver.close() #關閉當前視窗\n",
    "    #輸出主視窗控制程式碼\n",
    "    print(now_handle)\n",
    "    driver.switch_to_window(now_handle) #返回主視窗\n",
    "\n",
    "    button1 = driver.find_element(By.ID, \"ui-id-2\")\n",
    "    button1.click()\n",
    "    time.sleep(1)\n",
    "    ####################前期下載\n",
    "    button5 = driver.find_elements_by_class_name('i_download')\n",
    "    for i in range(len(button5)):\n",
    "        button5[i].click()\n",
    "        time.sleep(10)"
   ]
  },
  {
   "cell_type": "markdown",
   "metadata": {},
   "source": [
    "## 執行下載function(land_dl & pre_vol_download)"
   ]
  },
  {
   "cell_type": "code",
   "execution_count": 24,
   "metadata": {},
   "outputs": [],
   "source": [
    "def seperate_download():\n",
    "    download_root_path = abs_path\n",
    "    evident_type = ['1.不動產買賣','2.預售屋買賣','3.不動產租賃']\n",
    "    evident_type_ID = [\"typeASelectAll\",\"typeBSelectAll\",\"typeCSelectAll\"]\n",
    "\n",
    "    for i in range(len(path_main_list)):\n",
    "        try:\n",
    "            if not os.path.exists(download_root_path+'/'+evident_type[i]):\n",
    "                os.mkdir(download_root_path+'/'+evident_type[i])#建資料夾\n",
    "                land_dl(evident_type[i],evident_type_ID[i])#下載到資料夾\n",
    "            else:\n",
    "                land_dl(evident_type[i],evident_type_ID[i])#更新資料用\n",
    "        except:\n",
    "            print(\"error\")"
   ]
  },
  {
   "cell_type": "code",
   "execution_count": 25,
   "metadata": {},
   "outputs": [],
   "source": [
    "def pre_vol_download():\n",
    "    try:\n",
    "        if not os.path.exists(abs_ppath+'/'+'4.前期下載'):\n",
    "            os.mkdir(abs_ppath+'/'+'4.前期下載')#建資料夾\n",
    "            previous_vol()#下載到資料夾\n",
    "        else:\n",
    "            previous_vol()#更新資料用\n",
    "    except:\n",
    "        print(\"error\")"
   ]
  },
  {
   "cell_type": "markdown",
   "metadata": {},
   "source": [
    "## 解壓縮並刪除不需要之檔案"
   ]
  },
  {
   "cell_type": "code",
   "execution_count": 10,
   "metadata": {},
   "outputs": [],
   "source": [
    "def zip_extract_clean_data(download_root_path):\n",
    "\n",
    "    #依數字順序列出資料夾內zip檔案名稱\n",
    "    old_filename=os.listdir(download_root_path)\n",
    "    newlist = []\n",
    "    for names in old_filename:\n",
    "        if names.endswith(\".zip\"):\n",
    "            newlist.append(names)         \n",
    "    newlist.sort(key=len)\n",
    "    for i in range(len(newlist)):\n",
    "        newlist[i] = newlist[i].replace(' (', \"\")\n",
    "        newlist[i] = newlist[i].replace(')', \"\")\n",
    "        newlist[i] = newlist[i].replace('.zip', \"\")\n",
    "#     解壓縮每個zip檔\n",
    "    for i in range(len(newlist)):\n",
    "        extract_path =download_root_path +'/'+ old_filename[i]\n",
    "        file_path = download_root_path +'/'+ newlist[i]\n",
    "        extract_files = zipfile.ZipFile(extract_path,'r')\n",
    "        loop_data = extract_files.extractall(download_root_path+'/'+newlist[i])\n",
    "        extract_files.close()\n",
    "    \n",
    "    for i in range(len(newlist)):\n",
    "        each_file_path = download_root_path +'/'+ newlist[i]\n",
    "        for files in walk(each_file_path):#取得每季資料夾內所有檔案\n",
    "            path_file_list = list(files)[2]\n",
    "            \n",
    "        df_list = pd.DataFrame(path_file_list,columns=['Name'])\n",
    "        real_datalist = df_list[df_list['Name'].str.contains('lvr_land')]\n",
    "        real_datalist = list(real_datalist['Name'])\n",
    "        not_datalist = df_list[~df_list['Name'].str.contains('lvr_land')]#波浪鍵反選\n",
    "        not_datalist = list(not_datalist['Name'])\n",
    "        for j in range(len(not_datalist)):\n",
    "            try:\n",
    "                os.remove(each_file_path+'/'+not_datalist[j])\n",
    "            except OSError as e:\n",
    "                print(e)\n",
    "            else:\n",
    "                print(\"File is deleted successfully\") \n",
    "    return (newlist,real_datalist)"
   ]
  },
  {
   "cell_type": "code",
   "execution_count": 15,
   "metadata": {},
   "outputs": [],
   "source": [
    "def extract_pre_vol(download_root_path):\n",
    "\n",
    "    #依數字順序列出資料夾內zip檔案名稱\n",
    "    old_filename=os.listdir(download_root_path)\n",
    "    newlist = []\n",
    "    for names in old_filename:\n",
    "        if names.endswith(\".zip\"):\n",
    "            newlist.append(names)         \n",
    "    newlist.sort(key=len)\n",
    "    for i in range(len(newlist)):\n",
    "        newlist[i] = newlist[i].replace(' (', \"\")\n",
    "        newlist[i] = newlist[i].replace(')', \"\")\n",
    "        newlist[i] = newlist[i].replace('.zip', \"\")\n",
    "\n",
    "    #解壓縮每個zip檔\n",
    "    for i in range(len(newlist)):\n",
    "        extract_path =download_root_path +'/'+ old_filename[i]\n",
    "        file_path = download_root_path +'/'+ newlist[i]\n",
    "        extract_files = zipfile.ZipFile(extract_path,'r')\n",
    "        loop_data = extract_files.extractall(download_root_path+'/'+newlist[i])\n",
    "        extract_files.close()\n",
    "    \n",
    "    for i in range(len(newlist)):\n",
    "        each_file_path = download_root_path +'/'+ newlist[i]\n",
    "        for files in walk(each_file_path):#取得每季資料夾內所有檔案\n",
    "            path_file_list = list(files)[2]            \n",
    "        df_list = pd.DataFrame(path_file_list,columns=['Name'])\n",
    "        real_datalist = df_list[df_list['Name'].str.contains('.xls')]\n",
    "        real_datalist = list(real_datalist['Name'])\n",
    "        not_datalist = df_list[~df_list['Name'].str.contains('.xls')]#波浪鍵反選\n",
    "        not_datalist = list(not_datalist['Name'])           \n",
    "        for j in range(len(not_datalist)):\n",
    "            try:\n",
    "                os.remove(each_file_path+'/'+not_datalist[j])\n",
    "\n",
    "            except OSError as e:\n",
    "                print(e)\n",
    "            else:\n",
    "                print(\"File is deleted successfully\") \n",
    "    return(newlist)"
   ]
  },
  {
   "cell_type": "code",
   "execution_count": 35,
   "metadata": {},
   "outputs": [],
   "source": [
    "# evident_type =next(os.walk(abs_path))[1]\n",
    "for path, dirs, files in os.walk('/192.168.0.252/實價登錄下載區'):\n",
    "    print(dirs)\n",
    "#     evident_type = sorted(dirs)\n",
    "#     break\n",
    "# path_main_list = []\n",
    "# for i in range(len(evident_type)):\n",
    "#     path_main_list.append(path+'/'+evident_type[i])\n",
    "# pre_vol_path = path_main_list.pop()"
   ]
  },
  {
   "cell_type": "code",
   "execution_count": 16,
   "metadata": {},
   "outputs": [
    {
     "ename": "StopIteration",
     "evalue": "",
     "output_type": "error",
     "traceback": [
      "\u001b[1;31m---------------------------------------------------------------------------\u001b[0m",
      "\u001b[1;31mStopIteration\u001b[0m                             Traceback (most recent call last)",
      "\u001b[1;32m<ipython-input-16-e09b6b0c84e3>\u001b[0m in \u001b[0;36m<module>\u001b[1;34m\u001b[0m\n\u001b[1;32m----> 1\u001b[1;33m \u001b[0mevident_type\u001b[0m \u001b[1;33m=\u001b[0m\u001b[0mnext\u001b[0m\u001b[1;33m(\u001b[0m\u001b[0mos\u001b[0m\u001b[1;33m.\u001b[0m\u001b[0mwalk\u001b[0m\u001b[1;33m(\u001b[0m\u001b[0mabs_path\u001b[0m\u001b[1;33m)\u001b[0m\u001b[1;33m)\u001b[0m\u001b[1;33m[\u001b[0m\u001b[1;36m1\u001b[0m\u001b[1;33m]\u001b[0m\u001b[1;33m\u001b[0m\u001b[1;33m\u001b[0m\u001b[0m\n\u001b[0m\u001b[0;32m      2\u001b[0m \u001b[0mpath_main_list\u001b[0m \u001b[1;33m=\u001b[0m \u001b[1;33m[\u001b[0m\u001b[1;33m]\u001b[0m\u001b[1;33m\u001b[0m\u001b[1;33m\u001b[0m\u001b[0m\n\u001b[0;32m      3\u001b[0m \u001b[1;32mfor\u001b[0m \u001b[0mi\u001b[0m \u001b[1;32min\u001b[0m \u001b[0mrange\u001b[0m\u001b[1;33m(\u001b[0m\u001b[0mlen\u001b[0m\u001b[1;33m(\u001b[0m\u001b[0mevident_type\u001b[0m\u001b[1;33m)\u001b[0m\u001b[1;33m)\u001b[0m\u001b[1;33m:\u001b[0m\u001b[1;33m\u001b[0m\u001b[1;33m\u001b[0m\u001b[0m\n\u001b[0;32m      4\u001b[0m     \u001b[0mpath_main_list\u001b[0m\u001b[1;33m.\u001b[0m\u001b[0mappend\u001b[0m\u001b[1;33m(\u001b[0m\u001b[0mabs_path\u001b[0m\u001b[1;33m+\u001b[0m\u001b[1;34m'/'\u001b[0m\u001b[1;33m+\u001b[0m\u001b[0mevident_type\u001b[0m\u001b[1;33m[\u001b[0m\u001b[0mi\u001b[0m\u001b[1;33m]\u001b[0m\u001b[1;33m)\u001b[0m\u001b[1;33m\u001b[0m\u001b[1;33m\u001b[0m\u001b[0m\n\u001b[0;32m      5\u001b[0m \u001b[0mpre_vol_path\u001b[0m \u001b[1;33m=\u001b[0m \u001b[0mpath_main_list\u001b[0m\u001b[1;33m.\u001b[0m\u001b[0mpop\u001b[0m\u001b[1;33m(\u001b[0m\u001b[1;33m)\u001b[0m\u001b[1;33m\u001b[0m\u001b[1;33m\u001b[0m\u001b[0m\n",
      "\u001b[1;31mStopIteration\u001b[0m: "
     ]
    }
   ],
   "source": [
    "evident_type =next(os.walk(abs_path))[1]\n",
    "path_main_list = []\n",
    "for i in range(len(evident_type)):\n",
    "    path_main_list.append(abs_path+'/'+evident_type[i])\n",
    "pre_vol_path = path_main_list.pop()"
   ]
  },
  {
   "cell_type": "code",
   "execution_count": 23,
   "metadata": {
    "scrolled": true
   },
   "outputs": [],
   "source": [
    "#####檔案下載\n",
    "seperate_download()\n",
    "# pre_vol_download()\n",
    "# #####\n",
    "\n",
    "real_datalist=[]\n",
    "\n",
    "for i in range(len(path_main_list)):\n",
    "    try:\n",
    "        newlist,b = zip_extract_clean_data(path_main_list[i])\n",
    "        real_datalist.append(b)\n",
    "    except:\n",
    "        pass\n",
    "\n",
    "try: \n",
    "    pre_vol_filename = extract_pre_vol(pre_vol_path)\n",
    "except:\n",
    "    pass\n",
    "\n",
    "global newlist\n",
    "global real_datalist"
   ]
  },
  {
   "cell_type": "markdown",
   "metadata": {},
   "source": [
    "```python\n",
    "fdsdffdfsdf = pd.read_excel('D:/爬蟲測試資料夾/4.前期下載/20210511_opendata/a_lvr_land_c.xls',sheet_name='不動產租賃')\n",
    "fdsdffdfsdf\n",
    "```"
   ]
  },
  {
   "cell_type": "markdown",
   "metadata": {},
   "source": [
    "##  檔名一律小寫(配合前期下載)"
   ]
  },
  {
   "cell_type": "code",
   "execution_count": 33,
   "metadata": {},
   "outputs": [],
   "source": [
    "for i in range(len(path_main_list)):\n",
    "    for j in range(len(newlist)):\n",
    "        files=os.listdir(path_main_list[i]+'/'+newlist[j])\n",
    "        for k in range(len(files)):            \n",
    "            old_name = path_main_list[i]+'/'+newlist[j]+'/'+files[k]\n",
    "            new_name = path_main_list[i]+'/'+newlist[j]+'/'+files[k].lower()\n",
    "            os.rename(old_name,new_name)\n",
    "for i in range(len(path_main_list)):\n",
    "    for j in range(len(real_datalist[0])):\n",
    "        real_datalist[i][j]= real_datalist[i][j].lower()"
   ]
  },
  {
   "cell_type": "code",
   "execution_count": 34,
   "metadata": {},
   "outputs": [],
   "source": [
    "for i in range(len(pre_vol_filename)):\n",
    "    pre_files=os.listdir(pre_vol_path+'/'+pre_vol_filename[i])\n",
    "    for k in range(len(pre_files)):            \n",
    "        pre_old_name = pre_vol_path+'/'+pre_vol_filename[i]+'/'+pre_files[k]\n",
    "        pre_new_name = pre_vol_path+'/'+pre_vol_filename[i]+'/'+pre_files[k].lower()        \n",
    "        os.rename(pre_old_name,pre_new_name)"
   ]
  },
  {
   "cell_type": "markdown",
   "metadata": {},
   "source": [
    "## 依照縣市合併案例(path)"
   ]
  },
  {
   "cell_type": "code",
   "execution_count": 317,
   "metadata": {},
   "outputs": [],
   "source": [
    "def county_combine(county_filename):\n",
    "    #買賣租賃新成屋表格欄位不同\n",
    "    col_na_A = pd.read_csv(path_main_list[0]+'/'+newlist[0]+'/'+real_datalist[0][0],engine = \"python\")\n",
    "    col_name_A = col_na_A.columns.tolist()\n",
    "    combine_df_A = pd.DataFrame([],columns=col_name_A)\n",
    "    \n",
    "    col_na_B = pd.read_csv(path_main_list[1]+'/'+newlist[0]+'/'+real_datalist[1][0],engine = \"python\")\n",
    "    col_name_B = col_na_B.columns.tolist()\n",
    "    combine_df_B = pd.DataFrame([],columns=col_name_B)\n",
    "    \n",
    "    col_na_C = pd.read_csv(path_main_list[2]+'/'+newlist[0]+'/'+real_datalist[2][0],engine = \"python\")\n",
    "    col_name_C = col_na_C.columns.tolist()\n",
    "    combine_df_C = pd.DataFrame([],columns=col_name_C)\n",
    "        \n",
    "\n",
    "    for j in range(len(path_main_list)):\n",
    "        for i in range(len(newlist)):\n",
    "            try:\n",
    "                new_df = pd.read_csv(path_main_list[j]+'/'+newlist[i]+'/'+county_filename,engine = \"python\")\n",
    "                col_length = len(new_df.columns.tolist())\n",
    "                if col_length==33:\n",
    "                    combine_df_A = combine_df_A.append(new_df)\n",
    "                    combine_df_A = combine_df_A[~combine_df_A['鄉鎮市區'].isin(['The villages and towns urban district'])]\n",
    "    #                     combine_df_A = combine_df_A[1:]\n",
    "                    combine_df_A.index = range(1, len(combine_df_A)+1)\n",
    "\n",
    "                elif col_length==28:\n",
    "                    combine_df_B = combine_df_B.append(new_df)\n",
    "                    combine_df_B = combine_df_B[~combine_df_B['鄉鎮市區'].isin(['The villages and towns urban district'])]\n",
    "    #                     combine_df_B = combine_df_B[1:]\n",
    "                    combine_df_B.index = range(1, len(combine_df_B)+1)\n",
    "\n",
    "                elif col_length==29:\n",
    "                    combine_df_C = combine_df_C.append(new_df)\n",
    "                    combine_df_C = combine_df_C[~combine_df_C['鄉鎮市區'].isin(['The villages and towns urban district'])]\n",
    "        #                     combine_df_C = combine_df_C[1:]\n",
    "                    combine_df_C.index = range(1, len(combine_df_C)+1)\n",
    "            except:\n",
    "                pass\n",
    "    return combine_df_A,combine_df_B,combine_df_C"
   ]
  },
  {
   "cell_type": "code",
   "execution_count": 318,
   "metadata": {},
   "outputs": [],
   "source": [
    "countyname = ['臺北市','臺中市','基隆市','臺南市','高雄市','新北市','宜蘭縣','桃園市','嘉義市','新竹縣','苗栗縣','南投縣','彰化縣','新竹市','雲林縣','嘉義縣','屏東縣','花蓮縣','臺東縣','金門縣','澎湖縣','連江縣']\n",
    "\n",
    "for j in range(len(path_main_list)):\n",
    "    for i in range(len(real_datalist[0])):\n",
    "        county_evident_A,county_evident_B,county_evident_C = county_combine(real_datalist[j][i])\n",
    "        if not os.path.exists(path_main_list[j]+'/'+countyname[i]):\n",
    "            os.mkdir(path_main_list[j]+'/'+countyname[i])\n",
    "            if county_evident_A.size!=0:\n",
    "                A_save = county_evident_A.to_csv(path_main_list[0]+'/'+countyname[i]+'/'+countyname[i]+\".csv\",encoding='utf-8',index=False)\n",
    "            elif county_evident_B.size!=0:\n",
    "                B_save = county_evident_B.to_csv(path_main_list[1]+'/'+countyname[i]+'/'+countyname[i]+\".csv\",encoding='utf-8',index=False)\n",
    "            elif county_evident_C.size!=0:\n",
    "                C_save = county_evident_C.to_csv(path_main_list[2]+'/'+countyname[i]+'/'+countyname[i]+\".csv\",encoding='utf-8',index=False)\n",
    "        else:\n",
    "            if county_evident_A.size!=0:\n",
    "                A_save = county_evident_A.to_csv(path_main_list[0]+'/'+countyname[i]+'/'+countyname[i]+\".csv\",encoding='utf-8',index=False)\n",
    "            elif county_evident_B.size!=0:\n",
    "                B_save = county_evident_B.to_csv(path_main_list[1]+'/'+countyname[i]+'/'+countyname[i]+\".csv\",encoding='utf-8',index=False)\n",
    "            elif county_evident_C.size!=0:\n",
    "                C_save = county_evident_C.to_csv(path_main_list[2]+'/'+countyname[i]+'/'+countyname[i]+\".csv\",encoding='utf-8',index=False)"
   ]
  },
  {
   "cell_type": "markdown",
   "metadata": {},
   "source": [
    "```python\n",
    "lst = ['1', '2', '3', '4', '5']\n",
    "pattern = {'3':'three', '4':'four'}\n",
    "rep = [pattern[x] if x in pattern else x for x in lst]\n",
    "rep\n",
    "['1', '2', 'three', 'four', '5']\n",
    "```"
   ]
  },
  {
   "cell_type": "code",
   "execution_count": 232,
   "metadata": {},
   "outputs": [],
   "source": [
    "# path_main_list\n",
    "# pre_vol_path\n",
    "# newlist\n",
    "# real_datalist\n",
    "# pre_vol_filename"
   ]
  },
  {
   "cell_type": "markdown",
   "metadata": {},
   "source": [
    "## 產生所有種類與縣市純檔名(無xls,csv)"
   ]
  },
  {
   "cell_type": "code",
   "execution_count": 393,
   "metadata": {
    "scrolled": false
   },
   "outputs": [],
   "source": [
    "def vol_combine(county_num):\n",
    "    real_datalist_name=[]\n",
    "    for i in range(len(real_datalist)):\n",
    "        for j in range(len(real_datalist[0])):\n",
    "            real_datalist_name.append(re.sub('.csv', '.xls', real_datalist[i][j]))\n",
    "\n",
    "    real_datalist_name = np.reshape(real_datalist_name, (3,22))\n",
    "    real_datalist_name = list(real_datalist_name)\n",
    "    ############\n",
    "    col_na_A = pd.read_csv(path_main_list[0]+'/'+newlist[0]+'/'+real_datalist[0][0],engine = \"python\")\n",
    "    col_name_A = col_na_A.columns.tolist()\n",
    "    pre_combine_df_A = pd.DataFrame([],columns=col_name_A)\n",
    "\n",
    "    col_na_B = pd.read_csv(path_main_list[1]+'/'+newlist[0]+'/'+real_datalist[1][0],engine = \"python\")\n",
    "    col_name_B = col_na_B.columns.tolist()\n",
    "    pre_combine_df_B = pd.DataFrame([],columns=col_name_B)\n",
    "\n",
    "    col_na_C = pd.read_csv(path_main_list[2]+'/'+newlist[0]+'/'+real_datalist[2][0],engine = \"python\")\n",
    "    col_name_C = col_na_C.columns.tolist()\n",
    "    pre_combine_df_C = pd.DataFrame([],columns=col_name_C)\n",
    "\n",
    "    for i in range(len(real_datalist_name)):#3\n",
    "            for j in range(len(pre_vol_filename)):#5\n",
    "                if i==0:#買賣\n",
    "                    try:\n",
    "                        pre_vol_county = pd.read_excel(pre_vol_path+'/'+pre_vol_filename[j]+'/'+real_datalist_name[i][county_num],sheet_name='不動產買賣')\n",
    "                        pre_combine_df_A = pre_combine_df_A.append(pre_vol_county)\n",
    "                        pre_combine_df_A = pre_combine_df_A[~pre_combine_df_A['鄉鎮市區'].isin(['The villages and towns urban district'])]\n",
    "                        pre_combine_df_A.index = range(1, len(pre_combine_df_A)+1)\n",
    "                    except:\n",
    "                        pass   \n",
    "                elif i==1:#預售屋\n",
    "                    try:\n",
    "                        pre_vol_county = pd.read_excel(pre_vol_path+'/'+pre_vol_filename[j]+'/'+real_datalist_name[i][county_num],sheet_name='預售屋買賣')\n",
    "                        pre_combine_df_B = pre_combine_df_B.append(pre_vol_county)\n",
    "                        pre_combine_df_B = pre_combine_df_B[~pre_combine_df_B['鄉鎮市區'].isin(['The villages and towns urban district'])]\n",
    "                        pre_combine_df_B.index = range(1, len(pre_combine_df_B)+1)\n",
    "                    except:\n",
    "                        pass\n",
    "                elif i==2:#租賃\n",
    "                    try:\n",
    "                        pre_vol_county = pd.read_excel(pre_vol_path+'/'+pre_vol_filename[j]+'/'+real_datalist_name[i][county_num],sheet_name='不動產租賃')\n",
    "                        pre_combine_df_C = pre_combine_df_C.append(pre_vol_county)\n",
    "                        pre_combine_df_C = pre_combine_df_C[~pre_combine_df_C['鄉鎮市區'].isin(['The villages and towns urban district'])]\n",
    "                        pre_combine_df_C.index = range(1, len(pre_combine_df_C)+1)\n",
    "                    except:\n",
    "                        pass\n",
    "    return pre_combine_df_A,pre_combine_df_B,pre_combine_df_C"
   ]
  },
  {
   "cell_type": "code",
   "execution_count": 406,
   "metadata": {},
   "outputs": [],
   "source": [
    "countyname = ['臺北市','臺中市','基隆市','臺南市','高雄市','新北市','宜蘭縣','桃園市','嘉義市','新竹縣','苗栗縣','南投縣','彰化縣','新竹市','雲林縣','嘉義縣','屏東縣','花蓮縣','臺東縣','金門縣','澎湖縣','連江縣']\n",
    "for i in range(len(countyname)):\n",
    "    pre_buysell,pre_newsell,pre_rent =vol_combine(i)\n",
    "    pre_buysell.to_csv('D:/爬蟲測試資料夾/4.前期下載/'+countyname[i]+'_買賣.csv',encoding='utf-8',index=False)\n",
    "    pre_newsell.to_csv('D:/爬蟲測試資料夾/4.前期下載/'+countyname[i]+'_預售屋.csv',encoding='utf-8',index=False)\n",
    "    pre_rent.to_csv('D:/爬蟲測試資料夾/4.前期下載/'+countyname[i]+'_租賃.csv',encoding='utf-8',index=False)"
   ]
  },
  {
   "cell_type": "code",
   "execution_count": 418,
   "metadata": {},
   "outputs": [
    {
     "data": {
      "text/plain": [
       "['download',\n",
       " 'download1',\n",
       " 'download10',\n",
       " 'download11',\n",
       " 'download12',\n",
       " 'download13',\n",
       " 'download14',\n",
       " 'download15',\n",
       " 'download16',\n",
       " 'download17',\n",
       " 'download18',\n",
       " 'download19',\n",
       " 'download2',\n",
       " 'download20',\n",
       " 'download21',\n",
       " 'download22',\n",
       " 'download23',\n",
       " 'download24',\n",
       " 'download25',\n",
       " 'download26',\n",
       " 'download27',\n",
       " 'download28',\n",
       " 'download29',\n",
       " 'download3',\n",
       " 'download30',\n",
       " 'download31',\n",
       " 'download32',\n",
       " 'download33',\n",
       " 'download34',\n",
       " 'download35',\n",
       " 'download36',\n",
       " 'download37',\n",
       " 'download38',\n",
       " 'download4',\n",
       " 'download5',\n",
       " 'download6',\n",
       " 'download7',\n",
       " 'download8',\n",
       " 'download9',\n",
       " '20210511_opendata',\n",
       " '20210521_opendata',\n",
       " '20210601_opendata',\n",
       " '20210611_opendata',\n",
       " '20210621_opendata']"
      ]
     },
     "execution_count": 418,
     "metadata": {},
     "output_type": "execute_result"
    }
   ],
   "source": [
    "###取得刪除檔案名稱\n",
    "extracted_file = next(os.walk(path_main_list[1]))[1]+next(os.walk(pre_vol_path))[1]\n",
    "zip_data = next(os.walk(path_main_list[0]))[2]+next(os.walk(pre_vol_path))[2]\n",
    "extracted_file_df = pd.DataFrame(extracted_file,columns=['Name'])\n",
    "extracted_zip_df = pd.DataFrame(zip_data,columns=['Name'])\n",
    "delete_list_zip = extracted_zip_df[extracted_zip_df['Name'].str.contains('zip')]\n",
    "delete_list_zip = list(delete_list_zip['Name'])\n",
    "delete_list_file = extracted_file_df[extracted_file_df['Name'].str.contains('download|opendata')]                                \n",
    "delete_list_file = list(delete_list_file['Name'])\n",
    "evident_type =next(os.walk(abs_path))[1]\n",
    "all_file_path = []\n",
    "for i in range(len(evident_type)):\n",
    "    all_file_path.append(abs_path+'/'+evident_type[i])\n",
    "    \n",
    "delete_list_file\n",
    "###迴圈刪除\n",
    "for j in range(len(all_file_path)):\n",
    "    for i in range(len(delete_list_zip)):\n",
    "        dirPath_zip = all_file_path[j]+'/'+delete_list_zip[i]\n",
    "        try:\n",
    "            os.remove(dirPath_zip)\n",
    "        except OSError as e:\n",
    "            print(e)\n",
    "        else:\n",
    "            print(\"File is deleted successfully\")\n",
    "            \n",
    "for j in range(len(all_file_path)):\n",
    "    for i in range(len(delete_list_file)):\n",
    "        dirPath_file = all_file_path[j]+'/'+delete_list_file[i]\n",
    "        try:\n",
    "            shutil.rmtree(dirPath_file)\n",
    "        except OSError as e:\n",
    "            print(e)\n",
    "        else:\n",
    "            print(\"File is deleted successfully\")"
   ]
  },
  {
   "cell_type": "code",
   "execution_count": 347,
   "metadata": {},
   "outputs": [],
   "source": [
    "# 取得現在時間\n",
    "now = datetime.datetime.now()\n",
    "txt = '上次更新時間為：' + str(now)\n",
    "\n",
    "# 轉成df\n",
    "df_time = pd.DataFrame([txt], index=['UpdateTime'])\n",
    "\n",
    "# 存出檔案\n",
    "df_time.to_csv('D:/爬蟲測試資料夾/log.txt', header=False)"
   ]
  },
  {
   "cell_type": "code",
   "execution_count": null,
   "metadata": {},
   "outputs": [],
   "source": []
  }
 ],
 "metadata": {
  "celltoolbar": "Raw Cell Format",
  "kernelspec": {
   "display_name": "Python 3",
   "language": "python",
   "name": "python3"
  },
  "language_info": {
   "codemirror_mode": {
    "name": "ipython",
    "version": 3
   },
   "file_extension": ".py",
   "mimetype": "text/x-python",
   "name": "python",
   "nbconvert_exporter": "python",
   "pygments_lexer": "ipython3",
   "version": "3.8.8"
  }
 },
 "nbformat": 4,
 "nbformat_minor": 2
}
